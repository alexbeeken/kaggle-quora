{
 "cells": [
  {
   "cell_type": "markdown",
   "metadata": {},
   "source": [
    "# Quora Questions Kaggle Challenge"
   ]
  },
  {
   "cell_type": "markdown",
   "metadata": {},
   "source": [
    "## Importing the csv\n",
    "\n",
    "Import CSV and store selected rows in a list."
   ]
  },
  {
   "cell_type": "code",
   "execution_count": 20,
   "metadata": {
    "collapsed": false
   },
   "outputs": [],
   "source": [
    "import csv\n",
    "questions = []\n",
    "\n",
    "with open('q_quora_100.csv', 'rb') as csvfile:\n",
    "    reader = csv.reader(csvfile, delimiter=',')\n",
    "    for row in reader:\n",
    "        questions.append(row[0:6])"
   ]
  },
  {
   "cell_type": "markdown",
   "metadata": {},
   "source": [
    "Print the first row of the csv, the column keys. For double checking that the columns are the ones we want to easily refer back to see which columns are which."
   ]
  },
  {
   "cell_type": "code",
   "execution_count": 21,
   "metadata": {
    "collapsed": false
   },
   "outputs": [
    {
     "name": "stdout",
     "output_type": "stream",
     "text": [
      "column names\n",
      "['id', 'qid1', 'qid2', 'question1', 'question2', 'is_duplicate']\n"
     ]
    }
   ],
   "source": [
    "keys = questions[0]\n",
    "print 'column names'\n",
    "print keys"
   ]
  },
  {
   "cell_type": "markdown",
   "metadata": {},
   "source": [
    "Identify any columns that have the wrong number of columns. This was found because commas were used in some questions which messed up the csv parsing."
   ]
  },
  {
   "cell_type": "code",
   "execution_count": 29,
   "metadata": {
    "collapsed": false
   },
   "outputs": [],
   "source": [
    "for row in questions:\n",
    "    if len(row) != 6:\n",
    "        print 'WARNING: A COLUMN NEEDS FIXING'"
   ]
  },
  {
   "cell_type": "markdown",
   "metadata": {},
   "source": [
    "Convert python list to numpy array and delete the column names."
   ]
  },
  {
   "cell_type": "code",
   "execution_count": 30,
   "metadata": {
    "collapsed": false
   },
   "outputs": [
    {
     "name": "stdout",
     "output_type": "stream",
     "text": [
      "['1' '3' '4' 'What is the story of Kohinoor (Koh-i-Noor) Diamond?'\n",
      " 'What would happen if the Indian government stole the Kohinoor (Koh-i-Noor) diamond back?'\n",
      " '0']\n"
     ]
    }
   ],
   "source": [
    "import numpy as np\n",
    "\n",
    "questions = np.array(questions)\n",
    "questions = np.delete(questions, 0, 0)\n",
    "print questions[0]"
   ]
  },
  {
   "cell_type": "markdown",
   "metadata": {},
   "source": [
    "## Data Exploration\n",
    "\n",
    "First take a random entry in the dataset to get a feel for the questions."
   ]
  },
  {
   "cell_type": "code",
   "execution_count": 31,
   "metadata": {
    "collapsed": false
   },
   "outputs": [
    {
     "name": "stdout",
     "output_type": "stream",
     "text": [
      "['78' '157' '158' 'How can I make money through the Internet?'\n",
      " 'What are some different ways to make money online, excluding selling things?'\n",
      " '0']\n"
     ]
    }
   ],
   "source": [
    "import random\n",
    "\n",
    "size = len(questions)\n",
    "random_index = random.randrange(size)\n",
    "print questions[random_index]"
   ]
  },
  {
   "cell_type": "code",
   "execution_count": null,
   "metadata": {
    "collapsed": true
   },
   "outputs": [],
   "source": []
  },
  {
   "cell_type": "markdown",
   "metadata": {},
   "source": [
    "## Munging\n",
    "\n",
    "Splitting the sentence into tokens."
   ]
  },
  {
   "cell_type": "code",
   "execution_count": 35,
   "metadata": {
    "collapsed": false
   },
   "outputs": [
    {
     "name": "stdout",
     "output_type": "stream",
     "text": [
      "[['0', ['What', 'is', 'the', 'step', 'by', 'step', 'guide', 'to', 'invest', 'in', 'share', 'market', 'in', 'india?'], ['What', 'is', 'the', 'step', 'by', 'step', 'guide', 'to', 'invest', 'in', 'share', 'market?']], ['1', ['What', 'is', 'the', 'story', 'of', 'Kohinoor', '(Koh-i-Noor)', 'Diamond?'], ['What', 'would', 'happen', 'if', 'the', 'Indian', 'government', 'stole', 'the', 'Kohinoor', '(Koh-i-Noor)', 'diamond', 'back?']], ['2', ['How', 'can', 'I', 'increase', 'the', 'speed', 'of', 'my', 'internet', 'connection', 'while', 'using', 'a', 'VPN?'], ['How', 'can', 'Internet', 'speed', 'be', 'increased', 'by', 'hacking', 'through', 'DNS?']], ['3', ['Why', 'am', 'I', 'mentally', 'very', 'lonely?', 'How', 'can', 'I', 'solve', 'it?'], ['Find', 'the', 'remainder', 'when', '[math]23^{24}[/math]', 'is', 'divided', 'by', '24,23?']]]\n"
     ]
    }
   ],
   "source": [
    "processing = []\n",
    "\n",
    "for data in questions:\n",
    "    pairId = data[0]\n",
    "    sentence1 = data[3]\n",
    "    sentence2 = data[4]\n",
    "    tokens1 = sentence1.split(' ')\n",
    "    tokens2 = sentence2.split(' ')\n",
    "    processing.append([\n",
    "        pairId,\n",
    "        tokens1,\n",
    "        tokens2\n",
    "    ])\n",
    "    \n",
    "print(processing[0:4])"
   ]
  },
  {
   "cell_type": "markdown",
   "metadata": {},
   "source": [
    "We remove all stopwords. We loop over every row in the data set."
   ]
  },
  {
   "cell_type": "code",
   "execution_count": 45,
   "metadata": {
    "collapsed": false
   },
   "outputs": [
    {
     "name": "stdout",
     "output_type": "stream",
     "text": [
      "[['0', ['What', 'step', 'invest', 'market', 'What', 'step', 'invest', 'market', 'in'], ['What', 'step', 'step', 'guide', 'invest', 'share', 'market?', 'What', 'step', 'step', 'guide', 'invest', 'share', 'market?']], ['1', ['What', 'story', 'Kohinoor', '(Koh-i-Noor)', 'Diamond?', 'What', 'story', 'Kohinoor', '(Koh-i-Noor)', 'Diamond?'], ['What', 'would', 'happen', 'Indian', 'government', 'stole', 'Kohinoor', '(Koh-i-Noor)', 'diamond', 'back?', 'What', 'would', 'happen', 'Indian', 'government', 'stole', 'Kohinoor', '(Koh-i-Noor)', 'diamond', 'back?']], ['2', ['How', 'I', 'increase', 'speed', 'internet', 'connection', 'using', 'VPN?', 'How', 'I', 'increase', 'speed', 'internet', 'connection', 'using', 'VPN?'], ['How', 'Internet', 'speed', 'increased', 'hacking', 'DNS?', 'How', 'Internet', 'speed', 'increased', 'hacking', 'DNS?']], ['3', ['Why', 'I', 'mentally', 'lonely?', 'How', 'I', 'solve', 'it?', 'Why', 'I', 'mentally', 'lonely?', 'How', 'I', 'solve', 'it?'], ['Find', 'remainder', '[math]23^{24}[/math]', 'divided', '24,23?', 'Find', 'remainder', '[math]23^{24}[/math]', 'divided', '24,23?']], ['4', ['Which', 'one', 'dissolve', 'water', 'quikly', 'sugar,', 'salt,', 'methane', 'carbon', 'di', 'oxide?', 'Which', 'one', 'dissolve', 'water', 'quikly', 'sugar,', 'salt,', 'methane', 'carbon', 'di', 'oxide?'], ['Which', 'fish', 'would', 'survive', 'salt', 'water?', 'Which', 'fish', 'would', 'survive', 'salt', 'water?']]]\n"
     ]
    },
    {
     "name": "stderr",
     "output_type": "stream",
     "text": [
      "/Users/alexbeeken/anaconda/lib/python2.7/site-packages/ipykernel/__main__.py:9: UnicodeWarning: Unicode equal comparison failed to convert both arguments to Unicode - interpreting them as being unequal\n"
     ]
    }
   ],
   "source": [
    "import nltk\n",
    "from nltk.corpus import stopwords\n",
    "no_stop = []\n",
    "\n",
    "def remove_stop(sentence, words=stopwords.words('english')):\n",
    "    remove_these = []\n",
    "    for i in range(0, len(sentence) - 1):\n",
    "        word = sentence[i]\n",
    "        if word in words:\n",
    "            remove_these.append(i)\n",
    "    output = []\n",
    "    for i in range(0, len(sentence)):\n",
    "        if i not in remove_these:\n",
    "            output.append(sentence[i])\n",
    "    return output\n",
    "\n",
    "for data in processing:\n",
    "    pairId = data[0]\n",
    "    sentence1 = data[1]\n",
    "    sentence2 = data[2]\n",
    "    out1 = remove_stop(sentence1)\n",
    "    out2 = remove_stop(sentence2)\n",
    "        \n",
    "    no_stop.append([\n",
    "        pairId,\n",
    "        out1,\n",
    "        out2\n",
    "    ])\n",
    "    \n",
    "print no_stop[0:5]"
   ]
  },
  {
   "cell_type": "code",
   "execution_count": null,
   "metadata": {
    "collapsed": false
   },
   "outputs": [],
   "source": []
  },
  {
   "cell_type": "code",
   "execution_count": null,
   "metadata": {
    "collapsed": true
   },
   "outputs": [],
   "source": []
  }
 ],
 "metadata": {
  "kernelspec": {
   "display_name": "Python 2",
   "language": "python",
   "name": "python2"
  },
  "language_info": {
   "codemirror_mode": {
    "name": "ipython",
    "version": 2
   },
   "file_extension": ".py",
   "mimetype": "text/x-python",
   "name": "python",
   "nbconvert_exporter": "python",
   "pygments_lexer": "ipython2",
   "version": "2.7.13"
  }
 },
 "nbformat": 4,
 "nbformat_minor": 2
}
